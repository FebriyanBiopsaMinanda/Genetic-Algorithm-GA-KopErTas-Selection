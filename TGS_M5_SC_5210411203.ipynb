{
  "nbformat": 4,
  "nbformat_minor": 0,
  "metadata": {
    "colab": {
      "provenance": []
    },
    "kernelspec": {
      "name": "python3",
      "display_name": "Python 3"
    },
    "language_info": {
      "name": "python"
    }
  },
  "cells": [
    {
      "cell_type": "markdown",
      "source": [
        "# **Nama : Febriyan Biopsa Minanda**\n",
        "\n",
        "# **NIM : 5210411203**\n",
        "\n",
        "=================================================\n",
        "\n",
        "# **Genetic Algorithm KopErTas Selection**"
      ],
      "metadata": {
        "id": "4Up1PgOSkhUN"
      }
    },
    {
      "cell_type": "markdown",
      "source": [
        "# 1. Insialisasi Data"
      ],
      "metadata": {
        "id": "q4H3yH2PeyYX"
      }
    },
    {
      "cell_type": "code",
      "source": [
        "import random\n",
        "\n",
        "# Data mahasiswa\n",
        "students = [\n",
        "    {\"name\": \"Arya\", \"C\": 11, \"T\": 60},\n",
        "    {\"name\": \"Alana\", \"C\": 70, \"T\": 32},\n",
        "    {\"name\": \"Zayn\", \"C\": 101, \"T\": 101},\n",
        "    {\"name\": \"Kaelan\", \"C\": 99, \"T\": 103},\n",
        "    {\"name\": \"Ziva\", \"C\": 103, \"T\": 10},\n",
        "    {\"name\": \"Mikael\", \"C\": 16, \"T\": 100},\n",
        "    {\"name\": \"Nayla\", \"C\": 20, \"T\": 64}, #5210411203_Febriyan\n",
        "    {\"name\": \"Freya\", \"C\": 54, \"T\": 85},\n",
        "    {\"name\": \"Naufal\", \"C\": 100, \"T\": 3},\n",
        "    {\"name\": \"Damar\", \"C\": 40, \"T\": 23},\n",
        "    {\"name\": \"Kiara\", \"C\": 74, \"T\": 19},\n",
        "]"
      ],
      "metadata": {
        "id": "T4fIgdqZe5Cz"
      },
      "execution_count": 122,
      "outputs": []
    },
    {
      "cell_type": "markdown",
      "source": [
        "# 2. Menghitung Jumlah Kekuatan"
      ],
      "metadata": {
        "id": "70s2WcCgfDuA"
      }
    },
    {
      "cell_type": "code",
      "source": [
        "# Fungsi untuk menghitung kekuatan total dan kekuatan tim secara terpisah\n",
        "def calculate_strength(intelligence_team, agility_team):\n",
        "    strength_intelligence = (\n",
        "        students[intelligence_team[0]][\"C\"] *\n",
        "        students[intelligence_team[1]][\"C\"] *\n",
        "        students[intelligence_team[2]][\"C\"]\n",
        "    )\n",
        "    #5210411203_Febriyan\n",
        "    strength_agility = (\n",
        "        students[agility_team[0]][\"T\"] *\n",
        "        students[agility_team[1]][\"T\"] *\n",
        "        students[agility_team[2]][\"T\"]\n",
        "    )#5210411203_Febriyan\n",
        "\n",
        "    total_strength = strength_intelligence + strength_agility\n",
        "    return total_strength, strength_intelligence, strength_agility"
      ],
      "metadata": {
        "id": "J7Y_q6kPfSUg"
      },
      "execution_count": 123,
      "outputs": []
    },
    {
      "cell_type": "code",
      "source": [
        "intelligence_team = [3, 4, 5]\n",
        "agility_team = [6, 7, 8]\n",
        "\n",
        "total_strength, strength_intelligence, strength_agility = calculate_strength(intelligence_team, agility_team)\n",
        "total_strength, strength_intelligence, strength_agility"
      ],
      "metadata": {
        "colab": {
          "base_uri": "https://localhost:8080/"
        },
        "id": "uQ9ZIgg10EjZ",
        "outputId": "69a71946-e72c-4794-f172-f3e646bf383a"
      },
      "execution_count": 124,
      "outputs": [
        {
          "output_type": "execute_result",
          "data": {
            "text/plain": [
              "(179472, 163152, 16320)"
            ]
          },
          "metadata": {},
          "execution_count": 124
        }
      ]
    },
    {
      "cell_type": "markdown",
      "source": [
        "# 3. Inisialisasi Populasi"
      ],
      "metadata": {
        "id": "dVRuktl3fVYe"
      }
    },
    {
      "cell_type": "code",
      "source": [
        "# Inisialisasi populasi\n",
        "def initialize_population(population_size):\n",
        "    population = []   #5210411203_Febriyan\n",
        "    for _ in range(population_size):\n",
        "        team1 = random.sample(range(len(students)), 3)  # Tim Kecerdasan\n",
        "        team2 = random.sample([i for i in range(len(students)) if i not in team1], 3)  # Tim Ketangkasan\n",
        "        population.append((team1, team2))\n",
        "    return population"
      ],
      "metadata": {
        "id": "r8QPcJn1faXY"
      },
      "execution_count": 125,
      "outputs": []
    },
    {
      "cell_type": "code",
      "source": [
        "population_sixe = 5\n",
        "populasi = initialize_population(population_sixe)\n",
        "print(populasi)"
      ],
      "metadata": {
        "colab": {
          "base_uri": "https://localhost:8080/"
        },
        "id": "qB2jBN3s04Lq",
        "outputId": "3b3ab919-b12f-461c-bd69-9a7a4ce33c0c"
      },
      "execution_count": 126,
      "outputs": [
        {
          "output_type": "stream",
          "name": "stdout",
          "text": [
            "[([7, 1, 8], [5, 6, 0]), ([7, 0, 10], [8, 6, 5]), ([1, 0, 4], [6, 3, 9]), ([6, 7, 2], [9, 5, 10]), ([3, 1, 6], [7, 5, 4])]\n"
          ]
        }
      ]
    },
    {
      "cell_type": "markdown",
      "source": [
        "# 4. Menghitung Fitness"
      ],
      "metadata": {
        "id": "uwdD7g86fc62"
      }
    },
    {
      "cell_type": "code",
      "source": [
        "# Perhitungan fitness\n",
        "def evaluate_population(population):\n",
        "    fitness = [(calculate_strength(team1, team2)[0], (team1, team2)) for team1, team2 in population]\n",
        "    fitness.sort(reverse=True, key=lambda x: x[0])  # Sort berdasarkan kekuatan (descending)\n",
        "    return fitness    #5210411203_Febriyan"
      ],
      "metadata": {
        "id": "bN5aQx2LfhKU"
      },
      "execution_count": 127,
      "outputs": []
    },
    {
      "cell_type": "code",
      "source": [
        "fitness = evaluate_population(populasi)\n",
        "print(fitness)"
      ],
      "metadata": {
        "colab": {
          "base_uri": "https://localhost:8080/"
        },
        "id": "Da5X2BLP1MYN",
        "outputId": "24698554-e770-40d5-a7d9-4e41918fca5a"
      },
      "execution_count": 128,
      "outputs": [
        {
          "output_type": "stream",
          "name": "stdout",
          "text": [
            "[(762000, ([7, 1, 8], [5, 6, 0])), (230926, ([1, 0, 4], [6, 3, 9])), (223600, ([3, 1, 6], [7, 5, 4])), (152780, ([6, 7, 2], [9, 5, 10])), (63156, ([7, 0, 10], [8, 6, 5]))]\n"
          ]
        }
      ]
    },
    {
      "cell_type": "markdown",
      "source": [
        "# 5. Seleksi Parent"
      ],
      "metadata": {
        "id": "xwaqwkXmfh-1"
      }
    },
    {
      "cell_type": "code",
      "source": [
        "# Seleksi: Memilih orang tua berdasarkan fitness\n",
        "def selection(fitness, top_n=50):\n",
        "    parents = random.choices(fitness[:top_n], k=2)        #5210411203_Febriyan\n",
        "    return parents[0][1], parents[1][1]"
      ],
      "metadata": {
        "id": "iKuZVeXlfpve"
      },
      "execution_count": 129,
      "outputs": []
    },
    {
      "cell_type": "code",
      "source": [
        "parent1, parent2 = selection(fitness)\n",
        "print(parent1, parent2)"
      ],
      "metadata": {
        "colab": {
          "base_uri": "https://localhost:8080/"
        },
        "id": "p6ocLMUn1eGq",
        "outputId": "25400343-a861-435c-e02a-a06ddd3a8c81"
      },
      "execution_count": 130,
      "outputs": [
        {
          "output_type": "stream",
          "name": "stdout",
          "text": [
            "([6, 7, 2], [9, 5, 10]) ([3, 1, 6], [7, 5, 4])\n"
          ]
        }
      ]
    },
    {
      "cell_type": "markdown",
      "source": [
        "# 6. Crossover"
      ],
      "metadata": {
        "id": "wbSWaXI-fsbg"
      }
    },
    {
      "cell_type": "code",
      "source": [
        "# Crossover: Menggabungkan dua tim, memastikan tidak ada duplikasi mahasiswa\n",
        "def crossover(parent1, parent2):\n",
        "    team1 = list(set(parent1[0]).union(set(parent2[0])))  # Gabungkan dua tim kecerdasan\n",
        "    team2 = list(set(parent1[1]).union(set(parent2[1])))  # Gabungkan dua tim ketangkasan\n",
        "    #5210411203_Febriyan\n",
        "\n",
        "    # print(team1)\n",
        "    # print(team2)\n",
        "\n",
        "    # Pastikan ukuran setiap tim tetap 3 dan tidak ada duplikasi\n",
        "    team1 = random.sample(team1, min(len(team1), 3))\n",
        "    team2_candidates = [i for i in team2 if i not in team1]\n",
        "    if len(team2_candidates) >= 3:\n",
        "        team2 = random.sample(team2_candidates, 3)\n",
        "    else:#5210411203_Febriyan\n",
        "        team2 = random.sample([i for i in range(len(students)) if i not in team1], 3)\n",
        "\n",
        "    return team1, team2"
      ],
      "metadata": {
        "id": "KGwmZ4tAfwmH"
      },
      "execution_count": 131,
      "outputs": []
    },
    {
      "cell_type": "code",
      "source": [
        "team1, team2 = crossover(parent1, parent2)\n",
        "print(team1, team2)"
      ],
      "metadata": {
        "colab": {
          "base_uri": "https://localhost:8080/"
        },
        "id": "1-6dOUdd2FAW",
        "outputId": "16d5c01a-5d3f-4171-aeca-6cb548662ae8"
      },
      "execution_count": 132,
      "outputs": [
        {
          "output_type": "stream",
          "name": "stdout",
          "text": [
            "[7, 6, 3] [4, 9, 5]\n"
          ]
        }
      ]
    },
    {
      "cell_type": "markdown",
      "source": [
        "# 7. Mutasi"
      ],
      "metadata": {
        "id": "KJt3Qkknf_rq"
      }
    },
    {
      "cell_type": "code",
      "source": [
        "# Mutasi: Mengubah satu anggota tim, memastikan tidak ada duplikasi\n",
        "def mutate(team, mutation_rate=0.1):  #5210411203_Febriyan\n",
        "    if random.random() < mutation_rate:\n",
        "        team_to_mutate = random.choice([0, 1])  # 0 untuk tim kecerdasan, 1 untuk tim ketangkasan\n",
        "        member_to_replace = random.randint(0, 2)\n",
        "\n",
        "        available_indices = list(set(range(len(students))) - set(team[0]) - set(team[1]))\n",
        "        if available_indices:\n",
        "            new_member = random.choice(available_indices)\n",
        "            if team_to_mutate == 0:\n",
        "                team[0][member_to_replace] = new_member\n",
        "            else:\n",
        "                team[1][member_to_replace] = new_member\n",
        "\n",
        "    return team"
      ],
      "metadata": {
        "id": "SHRQgdnmfzMo"
      },
      "execution_count": 133,
      "outputs": []
    },
    {
      "cell_type": "code",
      "source": [
        "team = [team1, team2]\n",
        "mutated_team = mutate(team)\n",
        "print(mutated_team)"
      ],
      "metadata": {
        "colab": {
          "base_uri": "https://localhost:8080/"
        },
        "id": "KtPg8X9M2gnw",
        "outputId": "525f38a3-ecfe-42b4-8781-ab5dd5afb65b"
      },
      "execution_count": 134,
      "outputs": [
        {
          "output_type": "stream",
          "name": "stdout",
          "text": [
            "[[7, 6, 3], [4, 9, 5]]\n"
          ]
        }
      ]
    },
    {
      "cell_type": "markdown",
      "source": [
        "# 8. Populasi Baru"
      ],
      "metadata": {
        "id": "m7ZqDP0ZgBru"
      }
    },
    {
      "cell_type": "code",
      "source": [
        "# Membuat populasi baru dari generasi lama\n",
        "def create_new_population(fitness, population_size, mutation_rate=0.1):\n",
        "    new_population = []\n",
        "    for _ in range(population_size):\n",
        "        parent1, parent2 = selection(fitness)\n",
        "        child = crossover(parent1, parent2)\n",
        "        child = mutate(child, mutation_rate)\n",
        "        new_population.append(child)\n",
        "    return new_population #5210411203_Febriyan"
      ],
      "metadata": {
        "id": "WDMFBVyvf1fW"
      },
      "execution_count": 135,
      "outputs": []
    },
    {
      "cell_type": "markdown",
      "source": [
        "# 9. Implementasi GA"
      ],
      "metadata": {
        "id": "Swl6lOHfgE8t"
      }
    },
    {
      "cell_type": "code",
      "source": [
        "# Genetic Algorithm\n",
        "def genetic_algorithm(population_size=100, generations=10, mutation_rate=0.1):\n",
        "    population = initialize_population(population_size)#5210411203_Febriyan\n",
        "    best_solution = None\n",
        "    best_strength = 0\n",
        "\n",
        "    for generation in range(generations):\n",
        "        # Evaluate population fitness\n",
        "        fitness = evaluate_population(population)\n",
        "\n",
        "        # Update best solution found\n",
        "        best_in_generation = fitness[0]\n",
        "        if best_in_generation[0] > best_strength:\n",
        "            best_strength = best_in_generation[0]\n",
        "            best_solution = best_in_generation[1]\n",
        "\n",
        "        # Create new population\n",
        "        population = create_new_population(fitness, population_size, mutation_rate)\n",
        "        print(f\"Generasi : {generation + 1}, Maximum Fitness : {best_strength}\")\n",
        "        #5210411203_Febriyan\n",
        "    return best_solution, best_strength"
      ],
      "metadata": {
        "id": "-2gcyFOlf4wX"
      },
      "execution_count": 136,
      "outputs": []
    },
    {
      "cell_type": "code",
      "source": [
        "# Jalankan algoritma\n",
        "best_teams, max_strength = genetic_algorithm()\n",
        "intelligence_team, agility_team = best_teams\n"
      ],
      "metadata": {
        "colab": {
          "base_uri": "https://localhost:8080/"
        },
        "collapsed": true,
        "id": "1D_uF0zxc8GO",
        "outputId": "ed87b1c0-c1c7-453f-b53a-e783168a31e8"
      },
      "execution_count": 137,
      "outputs": [
        {
          "output_type": "stream",
          "name": "stdout",
          "text": [
            "Generasi : 1, Maximum Fitness : 1572290\n",
            "Generasi : 2, Maximum Fitness : 1572290\n",
            "Generasi : 3, Maximum Fitness : 1572290\n",
            "Generasi : 4, Maximum Fitness : 1915800\n",
            "Generasi : 5, Maximum Fitness : 1915800\n",
            "Generasi : 6, Maximum Fitness : 1915800\n",
            "Generasi : 7, Maximum Fitness : 1915800\n",
            "Generasi : 8, Maximum Fitness : 1915800\n",
            "Generasi : 9, Maximum Fitness : 1915800\n",
            "Generasi : 10, Maximum Fitness : 1915800\n"
          ]
        }
      ]
    },
    {
      "cell_type": "code",
      "source": [
        "# Hitung kekuatan tim secara terpisah\n",
        "_, intelligence_strength, agility_strength = calculate_strength(intelligence_team, agility_team)\n",
        "\n",
        "# Tampilkan hasil\n",
        "print(\"Tim Kecerdasan:\")\n",
        "for idx in intelligence_team:\n",
        "    print(students[idx][\"name\"], \"Nilai C:\", students[idx][\"C\"])\n",
        "\n",
        "print(\"\\nTim Ketangkasan:\")\n",
        "for idx in agility_team:  #5210411203_Febriyan\n",
        "    print(students[idx][\"name\"], \"Nilai T:\", students[idx][\"T\"])\n",
        "\n",
        "print(\"\\nKekuatan Tim Kecerdasan:\", intelligence_strength)\n",
        "print(\"Kekuatan Tim Ketangkasan:\", agility_strength)\n",
        "print(\"Kekuatan Total Maksimum:\", max_strength)"
      ],
      "metadata": {
        "colab": {
          "base_uri": "https://localhost:8080/"
        },
        "id": "9qIMX8ANf9jo",
        "outputId": "6cbaaa70-82c8-4e83-b8fb-37ccabee7026"
      },
      "execution_count": 138,
      "outputs": [
        {
          "output_type": "stream",
          "name": "stdout",
          "text": [
            "Tim Kecerdasan:\n",
            "Ziva Nilai C: 103\n",
            "Zayn Nilai C: 101\n",
            "Naufal Nilai C: 100\n",
            "\n",
            "Tim Ketangkasan:\n",
            "Freya Nilai T: 85\n",
            "Mikael Nilai T: 100\n",
            "Kaelan Nilai T: 103\n",
            "\n",
            "Kekuatan Tim Kecerdasan: 1040300\n",
            "Kekuatan Tim Ketangkasan: 875500\n",
            "Kekuatan Total Maksimum: 1915800\n"
          ]
        }
      ]
    }
  ]
}